{
 "cells": [
  {
   "cell_type": "code",
   "execution_count": 1,
   "metadata": {},
   "outputs": [],
   "source": [
    "import gym\n",
    "import numpy as np\n",
    "import tiles3 as tc\n",
    "import matplotlib.pyplot as plt"
   ]
  },
  {
   "cell_type": "code",
   "execution_count": 2,
   "metadata": {},
   "outputs": [],
   "source": [
    "def argmax(q_values):\n",
    "    top = float(\"-inf\")\n",
    "    ties = []\n",
    "\n",
    "    for i in range(len(q_values)):\n",
    "        if q_values[i] > top:\n",
    "            top = q_values[i]\n",
    "            ties = []\n",
    "\n",
    "        if q_values[i] == top:\n",
    "            ties.append(i)\n",
    "\n",
    "    return np.random.choice(ties)"
   ]
  },
  {
   "cell_type": "code",
   "execution_count": 7,
   "metadata": {},
   "outputs": [],
   "source": [
    "class LunarLanderTileCoder:\n",
    "    def __init__(self, iht_size=4096, num_tilings=8, num_tiles=8):\n",
    "        \"\"\"\n",
    "        Initializes the MountainCar Tile Coder\n",
    "        Initializers:\n",
    "        iht_size -- int, the size of the index hash table, typically a power of 2\n",
    "        num_tilings -- int, the number of tilings\n",
    "        num_tiles -- int, the number of tiles. Here both the width and height of the\n",
    "                     tile coder are the same\n",
    "        Class Variables:\n",
    "        self.iht -- tc.IHT, the index hash table that the tile coder will use\n",
    "        self.num_tilings -- int, the number of tilings the tile coder will use\n",
    "        self.num_tiles -- int, the number of tiles the tile coder will use\n",
    "        \"\"\"\n",
    "        self.iht = tc.IHT(iht_size)\n",
    "        self.num_tilings = num_tilings\n",
    "        self.num_tiles = num_tiles\n",
    "    \n",
    "    def get_tiles(self, state):\n",
    "        \"\"\"\n",
    "        Takes in a position and velocity from the mountaincar environment\n",
    "        and returns a numpy array of active tiles.\n",
    "        \n",
    "        Arguments:\n",
    "        position -- float, the position of the agent between -1.2 and 0.5\n",
    "        velocity -- float, the velocity of the agent between -0.07 and 0.07\n",
    "        returns:\n",
    "        tiles - np.array, active tiles\n",
    "        \"\"\"\n",
    "        hor_pos = [-1, 1]\n",
    "        ver_pos = [-0.47, 2.0]\n",
    "        hor_speed = [-2.34, 2.50]\n",
    "        ver_speed = [-2.34, 0.71]\n",
    "        angle = [-4.89, 4.80]\n",
    "        angular_speed = [-7.0, 6.99]\n",
    "        first_leg_contact = [0.0, 1.0]\n",
    "        second_leg_contact = [0.0, 1.0]\n",
    "        \n",
    "        values = [hor_pos, ver_pos, hor_speed, ver_speed, angle, angular_speed, first_leg_contact, second_leg_contact]\n",
    "        scales = self.calculate_scales(values)\n",
    "\n",
    "        tiles = tc.tiles(self.iht, self.num_tilings, np.multiply(scales, state))\n",
    "        \n",
    "        return np.array(tiles)\n",
    "\n",
    "    def calculate_scales(self, values):\n",
    "        scales = []\n",
    "        for v in values:\n",
    "            scales.append(self.num_tiles / (v[1] - v[0]))\n",
    "        return scales"
   ]
  },
  {
   "cell_type": "code",
   "execution_count": 21,
   "metadata": {},
   "outputs": [],
   "source": [
    "class SarsaAgent:\n",
    "    \n",
    "    num_tilings = 64\n",
    "    num_tiles = 8\n",
    "    iht_size = 100000 # index hash table\n",
    "    \n",
    "    # learning rate\n",
    "    alpha = 0.3 / num_tilings\n",
    "    # how often random move\n",
    "    epsilon = 1\n",
    "    # discount future rewards\n",
    "    gamma = 0.99\n",
    "    \n",
    "    epsilon_decay = 0.99995\n",
    "    epsilon_min = 0.1\n",
    "    \n",
    "    \n",
    "\n",
    "    def __init__(self, action_space, observation_space):\n",
    "\n",
    "        self.action_space = action_space\n",
    "        \n",
    "        # initialize value-function weights w\n",
    "        self.w = np.zeros((action_space.n, self.iht_size))\n",
    "        \n",
    "        # initialize tilecoder\n",
    "        self.tc = LunarLanderTileCoder(iht_size=self.iht_size, \n",
    "                                       num_tilings=self.num_tilings, \n",
    "                                       num_tiles=self.num_tiles)\n",
    "        \n",
    "        self.previous_tiles = None\n",
    "        \n",
    "        # initialize state, action and reward\n",
    "        #self.s = self.a = self.r = None\n",
    "    \n",
    "    def select_initial_action(self, state):\n",
    "        active_tiles = self.tc.get_tiles(state)\n",
    "        action, action_value = self.select_action(active_tiles)\n",
    "        \n",
    "        self.previous_tiles = np.copy(active_tiles)\n",
    "        \n",
    "        return action\n",
    "\n",
    "    def select_action(self, tiles):\n",
    "        action_values = []\n",
    "        action = None\n",
    "        # First loop through the weights of each action and populate action_values\n",
    "        # with the action value for each action and tiles instance\n",
    "        for w in self.w:\n",
    "            action_values.append(sum(w[tiles]))\n",
    "        # Epsilon-greedy action selection\n",
    "        if np.random.random() < self.epsilon:\n",
    "            action = np.random.randint(len(action_values))\n",
    "        else:\n",
    "            action = argmax(action_values)\n",
    "        \n",
    "        #print(\"tiles\", tiles, \"action_values\", action_values)\n",
    "        #print(\"weights\", self.w)\n",
    "        \n",
    "        return action, action_values[action]\n",
    "\n",
    "    def observe(self, state, action, reward, next_state, done):\n",
    "            #input()\n",
    "            #print(\"state\", state, \"action\", action, \"reward\", reward, \"next_state\", next_state)\n",
    "            if done:\n",
    "                target = reward\n",
    "                estimate = sum(self.w[action][self.previous_tiles])\n",
    "                self.w[action][self.previous_tiles] += self.alpha * (target - estimate)\n",
    "                return None\n",
    "            else:\n",
    "                active_tiles = self.tc.get_tiles(state)\n",
    "                \n",
    "                next_action, action_value = self.select_action(active_tiles)\n",
    "                \n",
    "                target = reward + self.gamma * action_value\n",
    "                estimate = sum(self.w[action][self.previous_tiles])\n",
    "                # print(\"loss\", target - estimate)\n",
    "                \n",
    "                self.w[action][self.previous_tiles] += self.alpha * (target - estimate)\n",
    "                \n",
    "                self.previous_tiles = np.copy(active_tiles)\n",
    "            \n",
    "            self.epsilon = max(self.epsilon_min, self.epsilon * self.epsilon_decay)\n",
    "            #print(self.epsilon)\n",
    "            \n",
    "            return next_action\n",
    "        "
   ]
  },
  {
   "cell_type": "markdown",
   "metadata": {},
   "source": [
    "Training the agent"
   ]
  },
  {
   "cell_type": "code",
   "execution_count": 23,
   "metadata": {},
   "outputs": [
    {
     "name": "stdout",
     "output_type": "stream",
     "text": [
      "IHT full, starting to allow collisions\n"
     ]
    },
    {
     "data": {
      "text/plain": [
       "-146.7897033237117"
      ]
     },
     "execution_count": 23,
     "metadata": {},
     "output_type": "execute_result"
    }
   ],
   "source": [
    "env = gym.make('LunarLander-v2')\n",
    "#env = env.unwrapped\n",
    "agent = SarsaAgent(env.action_space, env.observation_space)\n",
    "\n",
    "total_rewards = []\n",
    "\n",
    "for i_episode in range(400):\n",
    "    # choose inital state and action\n",
    "    state = env.reset()\n",
    "    action = agent.select_initial_action(state)\n",
    "    total_reward = 0\n",
    "    \n",
    "    for t in range(1000):\n",
    "        # env.render()\n",
    "        # Take action and observe reward, next_state\n",
    "        next_state, reward, done, info = env.step(action)\n",
    "        action = agent.observe(state, action, reward, next_state, done)\n",
    "        total_reward += reward\n",
    "        if done:\n",
    "            break\n",
    "        state = next_state\n",
    "    #print(\"Episode {} finished after {} timesteps with reward {}\".format(i_episode, t+1, total_reward))\n",
    "    total_rewards.append(total_reward)\n",
    "    #if i_episode >= 100 and np.mean(total_rewards[-100:]) > 195:\n",
    "    #    print(\"Solved, episode\", i_episode)\n",
    "    #    break\n",
    "    \n",
    "env.close()\n",
    "\n",
    "np.mean(total_rewards[-100:])"
   ]
  },
  {
   "cell_type": "markdown",
   "metadata": {},
   "source": [
    "Plot agents performance"
   ]
  },
  {
   "cell_type": "code",
   "execution_count": 24,
   "metadata": {},
   "outputs": [
    {
     "data": {
      "image/png": "[encoded data removed]",
      "text/plain": [
       "<Figure size 432x288 with 1 Axes>"
      ]
     },
     "metadata": {
      "needs_background": "light"
     },
     "output_type": "display_data"
    }
   ],
   "source": [
    "plt.plot(total_rewards)\n",
    "plt.plot()\n",
    "plt.ylabel('Total reward')\n",
    "plt.xlabel('Episodes')\n",
    "plt.show()"
   ]
  },
  {
   "cell_type": "markdown",
   "metadata": {},
   "source": [
    "Test agent"
   ]
  },
  {
   "cell_type": "code",
   "execution_count": 25,
   "metadata": {},
   "outputs": [
    {
     "name": "stdout",
     "output_type": "stream",
     "text": [
      "Episode finished after 186 timesteps, reward -57.19001958001371\n",
      "Episode finished after 213 timesteps, reward -54.977096666045455\n",
      "Episode finished after 155 timesteps, reward -267.5818598994411\n",
      "Episode finished after 124 timesteps, reward -177.69916467701847\n",
      "Episode finished after 175 timesteps, reward -55.666102406585196\n",
      "Episode finished after 254 timesteps, reward -30.738166689879137\n",
      "Episode finished after 202 timesteps, reward -320.6722370783434\n",
      "Episode finished after 148 timesteps, reward -378.9287483036734\n",
      "Episode finished after 202 timesteps, reward -94.65677350233024\n",
      "Episode finished after 156 timesteps, reward -67.83775509693683\n"
     ]
    }
   ],
   "source": [
    "total_rewards = []\n",
    "\n",
    "for i_episode in range(10):\n",
    "    # choose inital state and action\n",
    "    state = env.reset()\n",
    "    action = agent.select_initial_action(state)\n",
    "    total_reward = 0\n",
    "    \n",
    "    for t in range(1000):\n",
    "        env.render()\n",
    "        # Take action and observe reward, next_state\n",
    "        next_state, reward, done, info = env.step(action)\n",
    "        action = agent.observe(state, action, reward, next_state, done)\n",
    "        total_reward += reward\n",
    "        if done:\n",
    "            break\n",
    "        state = next_state\n",
    "    \n",
    "    total_rewards.append(total_reward)\n",
    "    print(\"Episode finished after {} timesteps, reward {}\".format(t+1, total_reward))\n",
    "    \n",
    "    \n",
    "np.mean(total_rewards)\n",
    "    \n",
    "env.close()"
   ]
  },
  {
   "cell_type": "markdown",
   "metadata": {},
   "source": [
    "Finding value ranges for tile coder"
   ]
  },
  {
   "cell_type": "code",
   "execution_count": 88,
   "metadata": {},
   "outputs": [
    {
     "ename": "KeyboardInterrupt",
     "evalue": "",
     "output_type": "error",
     "traceback": [
      "\u001b[1;31m---------------------------------------------------------------------------\u001b[0m",
      "\u001b[1;31mKeyboardInterrupt\u001b[0m                         Traceback (most recent call last)",
      "\u001b[1;32m<ipython-input-88-d1cf2d527e27>\u001b[0m in \u001b[0;36m<module>\u001b[1;34m\u001b[0m\n\u001b[0;32m      8\u001b[0m         \u001b[0mobservations\u001b[0m\u001b[1;33m.\u001b[0m\u001b[0mappend\u001b[0m\u001b[1;33m(\u001b[0m\u001b[0mobservation\u001b[0m\u001b[1;33m)\u001b[0m\u001b[1;33m\u001b[0m\u001b[1;33m\u001b[0m\u001b[0m\n\u001b[0;32m      9\u001b[0m         \u001b[0maction\u001b[0m \u001b[1;33m=\u001b[0m \u001b[0menv\u001b[0m\u001b[1;33m.\u001b[0m\u001b[0maction_space\u001b[0m\u001b[1;33m.\u001b[0m\u001b[0msample\u001b[0m\u001b[1;33m(\u001b[0m\u001b[1;33m)\u001b[0m\u001b[1;33m\u001b[0m\u001b[1;33m\u001b[0m\u001b[0m\n\u001b[1;32m---> 10\u001b[1;33m         \u001b[0mobservation\u001b[0m\u001b[1;33m,\u001b[0m \u001b[0mreward\u001b[0m\u001b[1;33m,\u001b[0m \u001b[0mdone\u001b[0m\u001b[1;33m,\u001b[0m \u001b[0minfo\u001b[0m \u001b[1;33m=\u001b[0m \u001b[0menv\u001b[0m\u001b[1;33m.\u001b[0m\u001b[0mstep\u001b[0m\u001b[1;33m(\u001b[0m\u001b[0maction\u001b[0m\u001b[1;33m)\u001b[0m\u001b[1;33m\u001b[0m\u001b[1;33m\u001b[0m\u001b[0m\n\u001b[0m\u001b[0;32m     11\u001b[0m         \u001b[1;32mif\u001b[0m \u001b[0mdone\u001b[0m\u001b[1;33m:\u001b[0m\u001b[1;33m\u001b[0m\u001b[1;33m\u001b[0m\u001b[0m\n\u001b[0;32m     12\u001b[0m             \u001b[1;31m#print(\"Episode finished after {} timesteps\".format(t+1))\u001b[0m\u001b[1;33m\u001b[0m\u001b[1;33m\u001b[0m\u001b[1;33m\u001b[0m\u001b[0m\n",
      "\u001b[1;32mc:\\users\\eetu\\sarsa\\venv\\lib\\site-packages\\gym\\wrappers\\time_limit.py\u001b[0m in \u001b[0;36mstep\u001b[1;34m(self, action)\u001b[0m\n\u001b[0;32m     14\u001b[0m     \u001b[1;32mdef\u001b[0m \u001b[0mstep\u001b[0m\u001b[1;33m(\u001b[0m\u001b[0mself\u001b[0m\u001b[1;33m,\u001b[0m \u001b[0maction\u001b[0m\u001b[1;33m)\u001b[0m\u001b[1;33m:\u001b[0m\u001b[1;33m\u001b[0m\u001b[1;33m\u001b[0m\u001b[0m\n\u001b[0;32m     15\u001b[0m         \u001b[1;32massert\u001b[0m \u001b[0mself\u001b[0m\u001b[1;33m.\u001b[0m\u001b[0m_elapsed_steps\u001b[0m \u001b[1;32mis\u001b[0m \u001b[1;32mnot\u001b[0m \u001b[1;32mNone\u001b[0m\u001b[1;33m,\u001b[0m \u001b[1;34m\"Cannot call env.step() before calling reset()\"\u001b[0m\u001b[1;33m\u001b[0m\u001b[1;33m\u001b[0m\u001b[0m\n\u001b[1;32m---> 16\u001b[1;33m         \u001b[0mobservation\u001b[0m\u001b[1;33m,\u001b[0m \u001b[0mreward\u001b[0m\u001b[1;33m,\u001b[0m \u001b[0mdone\u001b[0m\u001b[1;33m,\u001b[0m \u001b[0minfo\u001b[0m \u001b[1;33m=\u001b[0m \u001b[0mself\u001b[0m\u001b[1;33m.\u001b[0m\u001b[0menv\u001b[0m\u001b[1;33m.\u001b[0m\u001b[0mstep\u001b[0m\u001b[1;33m(\u001b[0m\u001b[0maction\u001b[0m\u001b[1;33m)\u001b[0m\u001b[1;33m\u001b[0m\u001b[1;33m\u001b[0m\u001b[0m\n\u001b[0m\u001b[0;32m     17\u001b[0m         \u001b[0mself\u001b[0m\u001b[1;33m.\u001b[0m\u001b[0m_elapsed_steps\u001b[0m \u001b[1;33m+=\u001b[0m \u001b[1;36m1\u001b[0m\u001b[1;33m\u001b[0m\u001b[1;33m\u001b[0m\u001b[0m\n\u001b[0;32m     18\u001b[0m         \u001b[1;32mif\u001b[0m \u001b[0mself\u001b[0m\u001b[1;33m.\u001b[0m\u001b[0m_elapsed_steps\u001b[0m \u001b[1;33m>=\u001b[0m \u001b[0mself\u001b[0m\u001b[1;33m.\u001b[0m\u001b[0m_max_episode_steps\u001b[0m\u001b[1;33m:\u001b[0m\u001b[1;33m\u001b[0m\u001b[1;33m\u001b[0m\u001b[0m\n",
      "\u001b[1;32mc:\\users\\eetu\\sarsa\\venv\\lib\\site-packages\\gym\\envs\\box2d\\lunar_lander.py\u001b[0m in \u001b[0;36mstep\u001b[1;34m(self, action)\u001b[0m\n\u001b[0;32m    302\u001b[0m         \u001b[0mself\u001b[0m\u001b[1;33m.\u001b[0m\u001b[0mworld\u001b[0m\u001b[1;33m.\u001b[0m\u001b[0mStep\u001b[0m\u001b[1;33m(\u001b[0m\u001b[1;36m1.0\u001b[0m\u001b[1;33m/\u001b[0m\u001b[0mFPS\u001b[0m\u001b[1;33m,\u001b[0m \u001b[1;36m6\u001b[0m\u001b[1;33m*\u001b[0m\u001b[1;36m30\u001b[0m\u001b[1;33m,\u001b[0m \u001b[1;36m2\u001b[0m\u001b[1;33m*\u001b[0m\u001b[1;36m30\u001b[0m\u001b[1;33m)\u001b[0m\u001b[1;33m\u001b[0m\u001b[1;33m\u001b[0m\u001b[0m\n\u001b[0;32m    303\u001b[0m \u001b[1;33m\u001b[0m\u001b[0m\n\u001b[1;32m--> 304\u001b[1;33m         \u001b[0mpos\u001b[0m \u001b[1;33m=\u001b[0m \u001b[0mself\u001b[0m\u001b[1;33m.\u001b[0m\u001b[0mlander\u001b[0m\u001b[1;33m.\u001b[0m\u001b[0mposition\u001b[0m\u001b[1;33m\u001b[0m\u001b[1;33m\u001b[0m\u001b[0m\n\u001b[0m\u001b[0;32m    305\u001b[0m         \u001b[0mvel\u001b[0m \u001b[1;33m=\u001b[0m \u001b[0mself\u001b[0m\u001b[1;33m.\u001b[0m\u001b[0mlander\u001b[0m\u001b[1;33m.\u001b[0m\u001b[0mlinearVelocity\u001b[0m\u001b[1;33m\u001b[0m\u001b[1;33m\u001b[0m\u001b[0m\n\u001b[0;32m    306\u001b[0m         state = [\n",
      "\u001b[1;31mKeyboardInterrupt\u001b[0m: "
     ]
    }
   ],
   "source": [
    "\n",
    "env = gym.make('LunarLander-v2')\n",
    "observations = []\n",
    "for i_episode in range(100000):\n",
    "    observation = env.reset()\n",
    "    for t in range(1000):\n",
    "        #env.render()\n",
    "        observations.append(observation)\n",
    "        action = env.action_space.sample()\n",
    "        observation, reward, done, info = env.step(action)\n",
    "        if done:\n",
    "            #print(\"Episode finished after {} timesteps\".format(t+1))\n",
    "            break\n",
    "env.close()\n",
    "data = np.array(observations).T\n",
    "h, v, h_s, v_s, a, a_s, f_lc, s_lc = data\n",
    "\n",
    "print(\"hor pos min\", np.min(h), \"max\", np.max(h))\n",
    "print(\"ver pos min\", np.min(v), \"max\", np.max(v))\n",
    "print(\"hor speed min\", np.min(h_s), \"max\", np.max(h_s))\n",
    "print(\"ver speed min\", np.min(v_s), \"max\", np.max(v_s))\n",
    "print(\"angle min\", np.min(a), \"max\", np.max(a))\n",
    "print(\"angular speed min\", np.min(a_s), \"max\", np.max(a_s))\n",
    "print(\"first leg contact\", np.min(f_lc), \"max\", np.max(f_lc))\n",
    "print(\"second leg contact\", np.min(s_lc), \"max\", np.max(s_lc))\n",
    "\n"
   ]
  },
  {
   "cell_type": "markdown",
   "metadata": {},
   "source": [
    "1,000 eps\n",
    "hor pos min -0.99929327 max 0.99987394\n",
    "ver pos min -0.41794086 max 1.8056848\n",
    "hor speed min -1.9801567 max 2.3109238\n",
    "ver speed min -2.1281495 max 0.57571495\n",
    "angle min -4.074976 max 3.7218862\n",
    "angular speed min -5.7167087 max 5.764369\n",
    "first leg contact 0.0 max 1.0\n",
    "second leg contact 0.0 max 1.0\n",
    "\n",
    "10,000 eps\n",
    "hor pos min -0.9999891 max 0.99993956\n",
    "ver pos min -0.4477216 max 1.8325248\n",
    "hor speed min -2.2053316 max 2.3370428\n",
    "ver speed min -2.3518126 max 0.5937856\n",
    "angle min -4.123625 max 4.5628214\n",
    "angular speed min -6.85596 max 6.8068733\n",
    "first leg contact 0.0 max 1.0\n",
    "second leg contact 0.0 max 1.0\n",
    "\n",
    "100,000 eps\n",
    "hor pos min -0.9999993 max 0.9999983\n",
    "ver pos min -0.46811426 max 1.9977229\n",
    "hor speed min -2.336575 max 2.4958823\n",
    "ver speed min -2.335797 max 0.70805645\n",
    "angle min -4.875486 max 4.7994423\n",
    "angular speed min -7.0356493 max 6.9858065\n",
    "first leg contact 0.0 max 1.0\n",
    "second leg contact 0.0 max 1.0"
   ]
  }
 ],
 "metadata": {
  "kernelspec": {
   "display_name": "Python 3",
   "language": "python",
   "name": "python3"
  },
  "language_info": {
   "codemirror_mode": {
    "name": "ipython",
    "version": 3
   },
   "file_extension": ".py",
   "mimetype": "text/x-python",
   "name": "python",
   "nbconvert_exporter": "python",
   "pygments_lexer": "ipython3",
   "version": "3.7.5"
  }
 },
 "nbformat": 4,
 "nbformat_minor": 4
}
